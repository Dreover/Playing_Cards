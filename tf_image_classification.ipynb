{
 "cells": [
  {
   "cell_type": "code",
   "execution_count": null,
   "id": "17df441b",
   "metadata": {},
   "outputs": [],
   "source": [
    "#Data\n",
    "link_to_data = 'https://www.kaggle.com/datasets/gpiosenka/cards-image-datasetclassification/data'"
   ]
  },
  {
   "cell_type": "code",
   "execution_count": 17,
   "id": "ce44275c",
   "metadata": {},
   "outputs": [],
   "source": [
    "import tensorflow as tf\n",
    "import plotly.express as px\n",
    "from tensorflow.keras import layers, models\n",
    "from tensorflow.keras.preprocessing.image import ImageDataGenerator"
   ]
  },
  {
   "cell_type": "code",
   "execution_count": 15,
   "id": "52adf6b2",
   "metadata": {},
   "outputs": [
    {
     "name": "stdout",
     "output_type": "stream",
     "text": [
      "Found 7624 images belonging to 53 classes.\n",
      "Found 265 images belonging to 53 classes.\n"
     ]
    }
   ],
   "source": [
    "#path variables\n",
    "train_data_path = './playing_cards/train/'\n",
    "valid_data_path = './playing_cards/valid/'\n",
    "test_data_path = './playing_cards/test/'\n",
    "\n",
    "#static variables\n",
    "img_height = 244\n",
    "img_width = 244\n",
    "batch_size = 32\n",
    "epochs = 7\n",
    "num_classes = 53\n",
    "\n",
    "#load images and preprocess\n",
    "train_datagen = ImageDataGenerator(rescale=1./255,\n",
    "                                   shear_range=0.2,\n",
    "                                   zoom_range=0.2,\n",
    "                                   horizontal_flip=True)\n",
    "\n",
    "test_datagen = ImageDataGenerator(rescale=1./255)\n",
    "\n",
    "train_generator = train_datagen.flow_from_directory(train_data_path,\n",
    "                                                    target_size=(img_height, img_width),\n",
    "                                                    batch_size=batch_size,\n",
    "                                                    class_mode='categorical')\n",
    "\n",
    "validation_generator = test_datagen.flow_from_directory(valid_data_path,\n",
    "                                                        target_size=(img_height, img_width),\n",
    "                                                        batch_size=batch_size,\n",
    "                                                        class_mode='categorical')\n"
   ]
  },
  {
   "cell_type": "code",
   "execution_count": 16,
   "id": "3b50b0aa",
   "metadata": {},
   "outputs": [],
   "source": [
    "#build the model\n",
    "model = models.Sequential()\n",
    "\n",
    "model.add(layers.Conv2D(32, (3, 3), activation='relu', input_shape=(img_height, img_width, 3)))\n",
    "model.add(layers.MaxPooling2D((2, 2)))\n",
    "\n",
    "model.add(layers.Flatten())\n",
    "model.add(layers.Dense(num_classes, activation='softmax'))\n",
    "\n",
    "model.compile(optimizer='adam',\n",
    "              loss='categorical_crossentropy',\n",
    "              metrics=['accuracy'])"
   ]
  },
  {
   "cell_type": "code",
   "execution_count": 11,
   "id": "51873ddc",
   "metadata": {},
   "outputs": [
    {
     "name": "stdout",
     "output_type": "stream",
     "text": [
      "Epoch 1/5\n",
      "238/238 [==============================] - 63s 261ms/step - loss: 13.2729 - accuracy: 0.2499 - val_loss: 2.2710 - val_accuracy: 0.4375\n",
      "Epoch 2/5\n",
      "238/238 [==============================] - 62s 261ms/step - loss: 2.3738 - accuracy: 0.4170 - val_loss: 2.3188 - val_accuracy: 0.4961\n",
      "Epoch 3/5\n",
      "238/238 [==============================] - 62s 260ms/step - loss: 2.1698 - accuracy: 0.4663 - val_loss: 1.9406 - val_accuracy: 0.5273\n",
      "Epoch 4/5\n",
      "238/238 [==============================] - 63s 262ms/step - loss: 2.0304 - accuracy: 0.4916 - val_loss: 1.7804 - val_accuracy: 0.6016\n",
      "Epoch 5/5\n",
      "238/238 [==============================] - 62s 258ms/step - loss: 1.8851 - accuracy: 0.5302 - val_loss: 1.9197 - val_accuracy: 0.5781\n"
     ]
    },
    {
     "data": {
      "text/plain": [
       "<keras.src.callbacks.History at 0x29ea47890>"
      ]
     },
     "execution_count": 11,
     "metadata": {},
     "output_type": "execute_result"
    }
   ],
   "source": [
    "#train model\n",
    "total_train = len(train_generator.filenames)\n",
    "total_val = len(validation_generator.filenames)\n",
    "\n",
    "model.fit(train_generator,\n",
    "          steps_per_epoch=total_train // batch_size,\n",
    "          epochs=epochs,\n",
    "          validation_data=validation_generator,\n",
    "          validation_steps=total_val // batch_size)"
   ]
  },
  {
   "cell_type": "code",
   "execution_count": 14,
   "id": "829c8c90",
   "metadata": {},
   "outputs": [
    {
     "name": "stdout",
     "output_type": "stream",
     "text": [
      "Found 265 images belonging to 53 classes.\n",
      "9/9 [==============================] - 1s 54ms/step - loss: 2.4008 - accuracy: 0.5660\n",
      "Test Accuracy: 0.5660377144813538\n"
     ]
    }
   ],
   "source": [
    "#evaluate the model\n",
    "test_generator = test_datagen.flow_from_directory(test_data_path,\n",
    "                                                  target_size=(img_height, img_width),\n",
    "                                                  batch_size=batch_size,\n",
    "                                                  class_mode='categorical')\n",
    "\n",
    "evaluation = model.evaluate(test_generator)\n",
    "print(\"Test Accuracy:\", evaluation[1])"
   ]
  },
  {
   "cell_type": "code",
   "execution_count": 18,
   "id": "182bc376",
   "metadata": {},
   "outputs": [
    {
     "name": "stdout",
     "output_type": "stream",
     "text": [
      "9/9 [==============================] - 1s 57ms/step\n"
     ]
    }
   ],
   "source": [
    "#make predictions with the trained model\n",
    "predictions = model.predict(test_generator)"
   ]
  }
 ],
 "metadata": {
  "kernelspec": {
   "display_name": "Python 3 (ipykernel)",
   "language": "python",
   "name": "python3"
  },
  "language_info": {
   "codemirror_mode": {
    "name": "ipython",
    "version": 3
   },
   "file_extension": ".py",
   "mimetype": "text/x-python",
   "name": "python",
   "nbconvert_exporter": "python",
   "pygments_lexer": "ipython3",
   "version": "3.11.0"
  }
 },
 "nbformat": 4,
 "nbformat_minor": 5
}
